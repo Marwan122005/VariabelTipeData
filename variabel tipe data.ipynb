{
 "cells": [
  {
   "cell_type": "markdown",
   "id": "f8be3b3a",
   "metadata": {},
   "source": [
    "<h1>Variabel dan Tipe Data Python</h1><hr>\n",
    "<font color=\"blue\">Beberapa aturan pembuatan variabel <b>python</b>:"
   ]
  },
  {
   "cell_type": "markdown",
   "id": "ec5593b3",
   "metadata": {},
   "source": [
    "<ol>\n",
    "    <li>bersifat case sensitif => A !=a</li>\n",
    "    <li>harus diawali dengan huruf atau karakter_(underscore)</li>\n",
    "    <li>tidak boleh menggunakan spasi</li>\n",
    "    <li>boleh menggunakan angka</li>\n",
    "</ol>"
   ]
  },
  {
   "cell_type": "code",
   "execution_count": 2,
   "id": "a356b8db",
   "metadata": {},
   "outputs": [
    {
     "name": "stdout",
     "output_type": "stream",
     "text": [
      "10\n",
      "100.9\n",
      "1\n",
      "True\n"
     ]
    }
   ],
   "source": [
    "data_int = 10\n",
    "data_float = 100.9\n",
    "data_string = '1'\n",
    "data_bool = True \n",
    "\n",
    "print(data_int)\n",
    "print(data_float)\n",
    "print(data_string)\n",
    "print(data_bool)\n",
    "\n"
   ]
  },
  {
   "cell_type": "markdown",
   "id": "cda70090",
   "metadata": {},
   "source": [
    "untuk mengetahui tipe data dari sebuah variabel gunakan command <b>type</b>"
   ]
  },
  {
   "cell_type": "code",
   "execution_count": 5,
   "id": "db768dab",
   "metadata": {},
   "outputs": [
    {
     "name": "stdout",
     "output_type": "stream",
     "text": [
      "<class 'int'>\n",
      "<class 'float'>\n",
      "<class 'str'>\n",
      "<class 'bool'>\n"
     ]
    }
   ],
   "source": [
    "print(type(data_int))\n",
    "print(type(data_float))\n",
    "print(type(data_string))\n",
    "print(type(data_bool))\n"
   ]
  },
  {
   "cell_type": "markdown",
   "id": "a066cc9e",
   "metadata": {},
   "source": [
    "pada pyhton terdapat proses <b>CASTING</b> yaitu konversi dari sebuah tipe data ke tipe data yang lain yaitu dengan sintaks <b>tipe_data(nama_variabel)\n"
   ]
  },
  {
   "cell_type": "code",
   "execution_count": 20,
   "id": "a3ec6684",
   "metadata": {},
   "outputs": [
    {
     "name": "stdout",
     "output_type": "stream",
     "text": [
      "Nilai variabel data_int 10\n",
      "10.0\n",
      "10\n",
      "True\n"
     ]
    }
   ],
   "source": [
    "int_to_float = float(data_int)\n",
    "int_to_string = str(data_int)\n",
    "int_to_bool = bool(data_int)\n",
    "\n",
    "print(\"Nilai variabel data_int\",data_int)\n",
    "print(int_to_float)\n",
    "print(int_to_string)\n",
    "print(int_to_bool)"
   ]
  },
  {
   "cell_type": "code",
   "execution_count": 22,
   "id": "0ca8324f",
   "metadata": {},
   "outputs": [
    {
     "name": "stdout",
     "output_type": "stream",
     "text": [
      "Nilai variabel data_int 100.9\n",
      "100.9\n",
      "100.9\n",
      "True\n"
     ]
    }
   ],
   "source": [
    "float_to_int = float(data_float)\n",
    "float_to_string = str(data_float)\n",
    "float_to_bool = bool(data_float)\n",
    "\n",
    "print(\"Nilai variabel data_int\",data_float)\n",
    "print(float_to_int)\n",
    "print(float_to_string)\n",
    "print(float_to_bool)"
   ]
  },
  {
   "cell_type": "code",
   "execution_count": 25,
   "id": "0b107ecb",
   "metadata": {},
   "outputs": [
    {
     "name": "stdout",
     "output_type": "stream",
     "text": [
      "Nilai variabel data_int 1\n",
      "1\n",
      "1\n",
      "True\n"
     ]
    }
   ],
   "source": [
    "str_to_int = int(data_string)\n",
    "str_to_float = str(data_string)\n",
    "str_to_bool = bool(data_string)\n",
    "\n",
    "print(\"Nilai variabel data_int\",data_string)\n",
    "print(str_to_int)\n",
    "print(str_to_float)\n",
    "print(str_to_bool)"
   ]
  },
  {
   "cell_type": "code",
   "execution_count": 30,
   "id": "bc5e1f40",
   "metadata": {},
   "outputs": [
    {
     "name": "stdout",
     "output_type": "stream",
     "text": [
      "Nilai variabel data_int True\n",
      "1\n",
      "1.0\n",
      "True\n"
     ]
    }
   ],
   "source": [
    "bool_to_int = int(data_bool)\n",
    "bool_to_float = float(data_bool)\n",
    "bool_to_str = str(data_bool)\n",
    "\n",
    "print(\"Nilai variabel data_int\",data_bool)\n",
    "print(bool_to_int)\n",
    "print(bool_to_float)\n",
    "print(bool_to_str)"
   ]
  },
  {
   "cell_type": "code",
   "execution_count": 38,
   "id": "83b7765d",
   "metadata": {},
   "outputs": [
    {
     "name": "stdout",
     "output_type": "stream",
     "text": [
      "Isikan Bilangan 1 = 5\n",
      "Isikan Bilangan 2 = 5\n",
      "hasil penjumlahan =  10\n",
      "hasil pembagian =  1.0\n",
      "hasil perkalian =  25\n",
      "hasil pengurangan=  0\n"
     ]
    }
   ],
   "source": [
    "bil1 = int(input(\"Isikan Bilangan 1 = \"))\n",
    "bil2 = int(input(\"Isikan Bilangan 2 = \"))\n",
    "hasil_tambah = bil1+bil2\n",
    "hasil_bagi  = bil1/bil2\n",
    "hasil_perkalian = bil1*bil2\n",
    "hasil_pengurangan = bil1-bil2\n",
    "print(\"hasil penjumlahan = \",hasil_tambah)\n",
    "print(\"hasil pembagian = \",hasil_bagi)\n",
    "print(\"hasil perkalian = \",hasil_perkalian)\n",
    "print(\"hasil pengurangan= \",hasil_pengurangan)"
   ]
  }
 ],
 "metadata": {
  "kernelspec": {
   "display_name": "Python 3 (ipykernel)",
   "language": "python",
   "name": "python3"
  },
  "language_info": {
   "codemirror_mode": {
    "name": "ipython",
    "version": 3
   },
   "file_extension": ".py",
   "mimetype": "text/x-python",
   "name": "python",
   "nbconvert_exporter": "python",
   "pygments_lexer": "ipython3",
   "version": "3.9.12"
  }
 },
 "nbformat": 4,
 "nbformat_minor": 5
}
